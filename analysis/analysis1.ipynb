{
 "cells": [
  {
   "attachments": {},
   "cell_type": "markdown",
   "metadata": {},
   "source": [
    "# Anilov Laxina"
   ]
  },
  {
   "attachments": {},
   "cell_type": "markdown",
   "metadata": {},
   "source": [
    "## Research question/interests\n",
    "\n",
    "My research question(s) will be: **How exactly does the audience get a negative or positive reaction out of the chosen song? Is it solely based on the lyrics or is it an amalgamation of both the lyrics and music?**\n",
    "\n",
    "For a rough plan, I could consider adding a column to see if the audience paid more attention to the lyrics or if they did not like the song simply due to the music. \n",
    "\n",
    "In order to this I can *try* to listen to some songs that had a negative reaction and some songs that had a positive one and analyze their lyrics and their overall sound and music. That way I can make a reasonable conclusion on how the audience might find a distaste in some songs while others find them to be positive."
   ]
  },
  {
   "attachments": {},
   "cell_type": "markdown",
   "metadata": {},
   "source": [
    "## Code\n",
    "\n",
    "### Load CSV File/Dataset"
   ]
  },
  {
   "cell_type": "code",
   "execution_count": null,
   "metadata": {},
   "outputs": [
    {
     "name": "stdout",
     "output_type": "stream",
     "text": [
      "      id      candidate                     song              artist  \\\n",
      "0      1  Mike Huckabee          None Shall Pass          Aesop Rock   \n",
      "1      2  Mike Huckabee                Wellstone           Soul Khan   \n",
      "2      3       Jeb Bush                      Awe          Dez & Nobs   \n",
      "3      4       Jeb Bush                The Truth            Diabolic   \n",
      "4      5       Jeb Bush                Money Man         Gorilla Zoe   \n",
      "..   ...            ...                      ...                 ...   \n",
      "372  374   Donald Trump               On the Way          Young Thug   \n",
      "373  375   Donald Trump                Digest It               Tiara   \n",
      "374  376   Donald Trump        Constantly Hating          Young Thug   \n",
      "375  377   Donald Trump  FDT (Fuck Donald Trump)  YG & Nipsey Hussle   \n",
      "376  378   Donald Trump          It's Goin' Down            Yung Joc   \n",
      "\n",
      "    sentiment      theme  album_release_date  \\\n",
      "0     neutral        NaN                2011   \n",
      "1    negative        NaN                2012   \n",
      "2     neutral        NaN                2006   \n",
      "3    negative  political                2006   \n",
      "4    negative   personal                2007   \n",
      "..        ...        ...                 ...   \n",
      "372  positive      money                2014   \n",
      "373  negative  political                2016   \n",
      "374  positive      money                2015   \n",
      "375  negative  political                2016   \n",
      "376  positive      money                2006   \n",
      "\n",
      "                                                  line  \\\n",
      "0    Wither by the watering hole, Border patrol / W...   \n",
      "1    Might find the door but never touch the key / ...   \n",
      "2           I heard Jeb Bush looking for a (inaudible)   \n",
      "3    What you heard before ain't as big of a lesson...   \n",
      "4    I'm comin back from Florida / Wit Jeb Bush and...   \n",
      "..                                                 ...   \n",
      "372  Bitches got bumps and I'm rich just like Donal...   \n",
      "373  The world gon' end real soon, especially if Tr...   \n",
      "374  I've seen more holes than a golf course on Don...   \n",
      "375                                  Fuck Donald Trump   \n",
      "376      Boys from the hood call me black Donald Trump   \n",
      "\n",
      "                                                   url  \n",
      "0    http://genius.com/Aesop-rock-none-shall-pass-l...  \n",
      "1         http://genius.com/Soul-khan-wellstone-lyrics  \n",
      "2            http://genius.com/Dez-and-nobs-awe-lyrics  \n",
      "3          http://genius.com/Diabolic-the-truth-lyrics  \n",
      "4       http://genius.com/Gorilla-zoe-money-man-lyrics  \n",
      "..                                                 ...  \n",
      "372       http://genius.com/Mpa-duke-on-the-way-lyrics  \n",
      "373     http://genius.com/Royce-da-59-digest-it-lyrics  \n",
      "374  http://genius.com/Young-thug-constantly-hating...  \n",
      "375  http://genius.com/Yg-and-nipsey-hu-le-fdt-fuck...  \n",
      "376    http://genius.com/Yung-joc-its-goin-down-lyrics  \n",
      "\n",
      "[377 rows x 9 columns]\n"
     ]
    }
   ],
   "source": [
    "import pandas as pd\n",
    "\n",
    "df = pd.read_csv(\"..\\data\\genius_hip_hop_lyrics.csv\")\n",
    "\n",
    "print(df)"
   ]
  }
 ],
 "metadata": {
  "kernelspec": {
   "display_name": "Python 3",
   "language": "python",
   "name": "python3"
  }
 },
 "nbformat": 4,
 "nbformat_minor": 2
}
